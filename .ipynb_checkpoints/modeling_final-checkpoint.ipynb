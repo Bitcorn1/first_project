{
 "cells": [
  {
   "cell_type": "markdown",
   "id": "1cb0f92a",
   "metadata": {},
   "source": [
    "# 사용한 패키지"
   ]
  },
  {
   "cell_type": "code",
   "execution_count": 1,
   "id": "00f930a1",
   "metadata": {},
   "outputs": [],
   "source": [
    "import pandas as pd\n",
    "import numpy as np\n",
    "import matplotlib.pyplot as plt\n",
    "import seaborn as sns\n",
    "\n",
    "import gc\n",
    "import pickle\n",
    "import datetime\n",
    "import math\n",
    "\n",
    "from sklearn.metrics import mean_squared_error\n",
    "from sklearn.preprocessing import StandardScaler, MinMaxScaler\n",
    "\n",
    "from sklearn.linear_model import LinearRegression\n",
    "from sklearn.neighbors import KNeighborsRegressor\n",
    "from sklearn.ensemble import RandomForestRegressor\n",
    "\n",
    "from xgboost import XGBRegressor\n",
    "from xgboost import plot_importance\n",
    "\n",
    "import lightgbm as lgb\n",
    "from lightgbm import plot_importance\n",
    "\n",
    "import catboost\n",
    "from catboost import Pool\n",
    "from catboost import CatBoostRegressor"
   ]
  },
  {
   "cell_type": "code",
   "execution_count": 2,
   "id": "6b4d96ca",
   "metadata": {},
   "outputs": [],
   "source": [
    "data = pd.read_pickle('data.pkl')"
   ]
  },
  {
   "cell_type": "code",
   "execution_count": 3,
   "id": "bf216a65",
   "metadata": {},
   "outputs": [],
   "source": [
    "X_train = data[data.date_block_num < 33].drop(['item_cnt_month'], axis=1)\n",
    "Y_train = data[data.date_block_num < 33]['item_cnt_month']\n",
    "X_valid = data[data.date_block_num == 33].drop(['item_cnt_month'], axis=1)\n",
    "Y_valid = data[data.date_block_num == 33]['item_cnt_month']\n",
    "X_test = data[data.date_block_num == 34].drop(['item_cnt_month'], axis=1)"
   ]
  },
  {
   "cell_type": "code",
   "execution_count": 4,
   "id": "d6b79f3d",
   "metadata": {},
   "outputs": [
    {
     "data": {
      "text/plain": [
       "39"
      ]
     },
     "execution_count": 4,
     "metadata": {},
     "output_type": "execute_result"
    }
   ],
   "source": [
    "del data\n",
    "gc.collect()"
   ]
  },
  {
   "cell_type": "markdown",
   "id": "929ef1b4",
   "metadata": {},
   "source": [
    "## scale"
   ]
  },
  {
   "cell_type": "code",
   "execution_count": 5,
   "id": "0894bcfd",
   "metadata": {},
   "outputs": [],
   "source": [
    "# data scaling\n",
    "from sklearn.preprocessing import StandardScaler\n",
    "sc = StandardScaler().fit(X_train)      # train data로 scale\n",
    "\n",
    "X_train_scaled = sc.transform(X_train)  # train data scale\n",
    "X_valid_scaled = sc.transform(X_valid)  # valid data scale\n",
    "X_test_scaled  = sc.transform(X_test)   # test data scale"
   ]
  },
  {
   "cell_type": "code",
   "execution_count": 6,
   "id": "5825f0d1",
   "metadata": {},
   "outputs": [
    {
     "data": {
      "text/plain": [
       "0.7524285046075293"
      ]
     },
     "execution_count": 6,
     "metadata": {},
     "output_type": "execute_result"
    }
   ],
   "source": [
    "from sklearn.decomposition import PCA\n",
    "\n",
    "# PCA\n",
    "# 주성분 갯수에 따른 분산 설명력\n",
    "# n_components=2: 0.3302800747163325\n",
    "# n_components=8: 0.6351398514602518\n",
    "# n_components=12: \n",
    "# n_components=16: 0.8433591812097375\n",
    "\n",
    "pca = PCA(n_components=12).fit(X_train_scaled) # train data로 PCA\n",
    "\n",
    "X_train_pca = pca.transform(X_train_scaled)\n",
    "X_valid_pca = pca.transform(X_valid_scaled)\n",
    "X_test_pca  = pca.transform(X_test_scaled)\n",
    "\n",
    "pca.explained_variance_ratio_.sum()"
   ]
  },
  {
   "cell_type": "markdown",
   "id": "c3ace307",
   "metadata": {},
   "source": [
    "## LinearRegression"
   ]
  },
  {
   "cell_type": "code",
   "execution_count": 7,
   "id": "20902adb",
   "metadata": {},
   "outputs": [
    {
     "name": "stdout",
     "output_type": "stream",
     "text": [
      "train rmse: 0.9183493476370066\n",
      "valid rmse: 0.9645213530254981\n"
     ]
    }
   ],
   "source": [
    "lr_model = LinearRegression(n_jobs=-1)\n",
    "lr_model.fit(X_train, Y_train)\n",
    "\n",
    "lr_train_pred = lr_model.predict(X_train)\n",
    "lr_val_pred = lr_model.predict(X_valid)\n",
    "lr_test_pred = lr_model.predict(X_test)\n",
    "\n",
    "print('train rmse:', np.sqrt(mean_squared_error(Y_train, lr_train_pred)))\n",
    "print('valid rmse:', np.sqrt(mean_squared_error(Y_valid, lr_val_pred)))"
   ]
  },
  {
   "cell_type": "code",
   "execution_count": 8,
   "id": "738d0480",
   "metadata": {},
   "outputs": [
    {
     "name": "stderr",
     "output_type": "stream",
     "text": [
      "c:\\Users\\nonil\\anaconda3\\envs\\env_37\\lib\\site-packages\\sklearn\\base.py:451: UserWarning: X does not have valid feature names, but LinearRegression was fitted with feature names\n",
      "  \"X does not have valid feature names, but\"\n"
     ]
    },
    {
     "name": "stdout",
     "output_type": "stream",
     "text": [
      "train rmse: 1.10562835507866\n",
      "valid rmse: 1.210432209766015\n"
     ]
    },
    {
     "name": "stderr",
     "output_type": "stream",
     "text": [
      "c:\\Users\\nonil\\anaconda3\\envs\\env_37\\lib\\site-packages\\sklearn\\base.py:451: UserWarning: X does not have valid feature names, but LinearRegression was fitted with feature names\n",
      "  \"X does not have valid feature names, but\"\n",
      "c:\\Users\\nonil\\anaconda3\\envs\\env_37\\lib\\site-packages\\sklearn\\base.py:451: UserWarning: X does not have valid feature names, but LinearRegression was fitted with feature names\n",
      "  \"X does not have valid feature names, but\"\n"
     ]
    }
   ],
   "source": [
    "lr_model = LinearRegression(n_jobs=-1)\n",
    "lr_model.fit(X_train, Y_train)\n",
    "\n",
    "lr_train_pred_scaled = lr_model.predict(X_train_scaled)\n",
    "lr_val_pred_scaled = lr_model.predict(X_valid_scaled)\n",
    "lr_test_pred_scaled = lr_model.predict(X_test_scaled)\n",
    "\n",
    "print('train rmse:', np.sqrt(mean_squared_error(Y_train, lr_train_pred_scaled)))\n",
    "print('valid rmse:', np.sqrt(mean_squared_error(Y_valid, lr_val_pred_scaled)))\n",
    "\n",
    "# 회귀모델 돌림, "
   ]
  },
  {
   "cell_type": "code",
   "execution_count": 9,
   "id": "5eace0e8",
   "metadata": {},
   "outputs": [
    {
     "name": "stdout",
     "output_type": "stream",
     "text": [
      "train rmse: 0.9420492614754854\n",
      "valid rmse: 0.9727444976148459\n"
     ]
    }
   ],
   "source": [
    "lr_model = LinearRegression(n_jobs=-1)\n",
    "lr_model.fit(X_train_pca, Y_train)\n",
    "\n",
    "lr_train_pred_pca = lr_model.predict(X_train_pca)\n",
    "lr_val_pred_pca = lr_model.predict(X_valid_pca)\n",
    "lr_test_pred_pca = lr_model.predict(X_test_pca)\n",
    "\n",
    "print('train rmse:', np.sqrt(mean_squared_error(Y_train, lr_train_pred_pca)))\n",
    "print('valid rmse:', np.sqrt(mean_squared_error(Y_valid, lr_val_pred_pca)))"
   ]
  },
  {
   "cell_type": "markdown",
   "id": "585507bd",
   "metadata": {},
   "source": [
    "## KNN"
   ]
  },
  {
   "cell_type": "code",
   "execution_count": 10,
   "id": "dbe0d138",
   "metadata": {},
   "outputs": [],
   "source": [
    "knn_model = KNeighborsRegressor(n_neighbors=9,\n",
    "                                weights = \"distance\",\n",
    "                                n_jobs=-1)\n",
    "\n",
    "knn_model.fit(X_train_pca, Y_train)\n",
    "\n",
    "knn_train_pred = knn_model.predict(X_train_pca)\n",
    "knn_val_pred = knn_model.predict(X_valid_pca)\n",
    "knn_test_pred = knn_model.predict(X_test_pca)"
   ]
  },
  {
   "cell_type": "code",
   "execution_count": 11,
   "id": "954f31c7",
   "metadata": {},
   "outputs": [
    {
     "name": "stdout",
     "output_type": "stream",
     "text": [
      "train rmse: 0.0\n",
      "valid rmse: 0.9670170838802845\n"
     ]
    }
   ],
   "source": [
    "print('train rmse:', np.sqrt(mean_squared_error(Y_train, knn_train_pred)))\n",
    "print('valid rmse:', np.sqrt(mean_squared_error(Y_valid, knn_val_pred)))"
   ]
  },
  {
   "cell_type": "markdown",
   "id": "91804b38",
   "metadata": {},
   "source": [
    "## RandomForestRegressor"
   ]
  },
  {
   "cell_type": "code",
   "execution_count": 135,
   "id": "15b6242e",
   "metadata": {},
   "outputs": [
    {
     "data": {
      "text/plain": [
       "{'bootstrap': True,\n",
       " 'ccp_alpha': 0.0,\n",
       " 'criterion': 'squared_error',\n",
       " 'max_depth': None,\n",
       " 'max_features': 'auto',\n",
       " 'max_leaf_nodes': None,\n",
       " 'max_samples': None,\n",
       " 'min_impurity_decrease': 0.0,\n",
       " 'min_samples_leaf': 1,\n",
       " 'min_samples_split': 2,\n",
       " 'min_weight_fraction_leaf': 0.0,\n",
       " 'n_estimators': 100,\n",
       " 'n_jobs': None,\n",
       " 'oob_score': False,\n",
       " 'random_state': None,\n",
       " 'verbose': 0,\n",
       " 'warm_start': False}"
      ]
     },
     "execution_count": 135,
     "metadata": {},
     "output_type": "execute_result"
    }
   ],
   "source": [
    "rf = RandomForestRegressor()\n",
    "rf.get_params()"
   ]
  },
  {
   "cell_type": "code",
   "execution_count": 12,
   "id": "00c037e2",
   "metadata": {},
   "outputs": [],
   "source": [
    "rf_model = RandomForestRegressor(n_estimators=50,   # 트리의 개수(default: 10)\n",
    "                                 max_depth=7,       # 트리의 깊이(default: None)\n",
    "                                 random_state=0,\n",
    "                                 n_jobs=-1)\n",
    "\n",
    "rf_model.fit(X_train, Y_train)\n",
    "\n",
    "rf_train_pred = rf_model.predict(X_train)\n",
    "rf_val_pred = rf_model.predict(X_valid)\n",
    "rf_test_pred = rf_model.predict(X_test)"
   ]
  },
  {
   "cell_type": "code",
   "execution_count": 13,
   "id": "c9725f90",
   "metadata": {},
   "outputs": [
    {
     "name": "stdout",
     "output_type": "stream",
     "text": [
      "train rmse: 0.8775950060340351\n",
      "valid rmse: 0.9415434750840532\n"
     ]
    }
   ],
   "source": [
    "print('train rmse:', np.sqrt(mean_squared_error(Y_train, rf_train_pred)))\n",
    "print('valid rmse:', np.sqrt(mean_squared_error(Y_valid, rf_val_pred)))"
   ]
  },
  {
   "cell_type": "markdown",
   "id": "0587538f",
   "metadata": {},
   "source": [
    "## xgboost"
   ]
  },
  {
   "cell_type": "code",
   "execution_count": 14,
   "id": "134dc4d5",
   "metadata": {},
   "outputs": [],
   "source": [
    "from xgboost import XGBRegressor\n",
    "from xgboost import plot_importance"
   ]
  },
  {
   "cell_type": "code",
   "execution_count": 137,
   "id": "0ccd0ac2",
   "metadata": {},
   "outputs": [
    {
     "data": {
      "text/plain": [
       "{'objective': 'reg:squarederror',\n",
       " 'base_score': None,\n",
       " 'booster': None,\n",
       " 'colsample_bylevel': None,\n",
       " 'colsample_bynode': None,\n",
       " 'colsample_bytree': None,\n",
       " 'enable_categorical': False,\n",
       " 'gamma': None,\n",
       " 'gpu_id': None,\n",
       " 'importance_type': None,\n",
       " 'interaction_constraints': None,\n",
       " 'learning_rate': None,\n",
       " 'max_delta_step': None,\n",
       " 'max_depth': None,\n",
       " 'min_child_weight': None,\n",
       " 'missing': nan,\n",
       " 'monotone_constraints': None,\n",
       " 'n_estimators': 100,\n",
       " 'n_jobs': None,\n",
       " 'num_parallel_tree': None,\n",
       " 'predictor': None,\n",
       " 'random_state': None,\n",
       " 'reg_alpha': None,\n",
       " 'reg_lambda': None,\n",
       " 'scale_pos_weight': None,\n",
       " 'subsample': None,\n",
       " 'tree_method': None,\n",
       " 'validate_parameters': None,\n",
       " 'verbosity': None}"
      ]
     },
     "execution_count": 137,
     "metadata": {},
     "output_type": "execute_result"
    }
   ],
   "source": [
    "xgb = XGBRegressor()\n",
    "xgb.get_params()"
   ]
  },
  {
   "cell_type": "code",
   "execution_count": 15,
   "id": "a4116bac",
   "metadata": {},
   "outputs": [
    {
     "name": "stdout",
     "output_type": "stream",
     "text": [
      "[0]\tvalidation_0-rmse:1.06183\tvalidation_1-rmse:1.05497\n",
      "[1]\tvalidation_0-rmse:0.97602\tvalidation_1-rmse:0.99457\n",
      "[2]\tvalidation_0-rmse:0.92799\tvalidation_1-rmse:0.96606\n",
      "[3]\tvalidation_0-rmse:0.90002\tvalidation_1-rmse:0.94944\n",
      "[4]\tvalidation_0-rmse:0.88202\tvalidation_1-rmse:0.94090\n",
      "[5]\tvalidation_0-rmse:0.86638\tvalidation_1-rmse:0.92989\n",
      "[6]\tvalidation_0-rmse:0.85673\tvalidation_1-rmse:0.92111\n",
      "[7]\tvalidation_0-rmse:0.85145\tvalidation_1-rmse:0.92142\n",
      "[8]\tvalidation_0-rmse:0.84804\tvalidation_1-rmse:0.92182\n",
      "[9]\tvalidation_0-rmse:0.84367\tvalidation_1-rmse:0.91553\n",
      "[10]\tvalidation_0-rmse:0.83980\tvalidation_1-rmse:0.91682\n",
      "[11]\tvalidation_0-rmse:0.83826\tvalidation_1-rmse:0.91682\n",
      "[12]\tvalidation_0-rmse:0.83581\tvalidation_1-rmse:0.91700\n",
      "[13]\tvalidation_0-rmse:0.83383\tvalidation_1-rmse:0.91729\n",
      "[14]\tvalidation_0-rmse:0.83279\tvalidation_1-rmse:0.91715\n",
      "[15]\tvalidation_0-rmse:0.83156\tvalidation_1-rmse:0.91857\n",
      "[16]\tvalidation_0-rmse:0.83055\tvalidation_1-rmse:0.91857\n",
      "[17]\tvalidation_0-rmse:0.82953\tvalidation_1-rmse:0.91811\n",
      "[18]\tvalidation_0-rmse:0.82839\tvalidation_1-rmse:0.91815\n",
      "[19]\tvalidation_0-rmse:0.82814\tvalidation_1-rmse:0.91762\n",
      "[20]\tvalidation_0-rmse:0.82749\tvalidation_1-rmse:0.91688\n",
      "[21]\tvalidation_0-rmse:0.82645\tvalidation_1-rmse:0.91665\n",
      "[22]\tvalidation_0-rmse:0.82603\tvalidation_1-rmse:0.91677\n",
      "[23]\tvalidation_0-rmse:0.82505\tvalidation_1-rmse:0.91661\n",
      "[24]\tvalidation_0-rmse:0.82452\tvalidation_1-rmse:0.91661\n",
      "[25]\tvalidation_0-rmse:0.82403\tvalidation_1-rmse:0.91678\n",
      "[26]\tvalidation_0-rmse:0.82354\tvalidation_1-rmse:0.91685\n",
      "[27]\tvalidation_0-rmse:0.82219\tvalidation_1-rmse:0.91883\n",
      "[28]\tvalidation_0-rmse:0.82191\tvalidation_1-rmse:0.91881\n",
      "[29]\tvalidation_0-rmse:0.82115\tvalidation_1-rmse:0.91899\n",
      "[30]\tvalidation_0-rmse:0.82069\tvalidation_1-rmse:0.91915\n",
      "[31]\tvalidation_0-rmse:0.81999\tvalidation_1-rmse:0.91899\n",
      "[32]\tvalidation_0-rmse:0.81838\tvalidation_1-rmse:0.92233\n",
      "[33]\tvalidation_0-rmse:0.81796\tvalidation_1-rmse:0.92186\n",
      "[34]\tvalidation_0-rmse:0.81753\tvalidation_1-rmse:0.92239\n",
      "[35]\tvalidation_0-rmse:0.81725\tvalidation_1-rmse:0.92246\n",
      "[36]\tvalidation_0-rmse:0.81597\tvalidation_1-rmse:0.92138\n",
      "[37]\tvalidation_0-rmse:0.81540\tvalidation_1-rmse:0.92101\n",
      "[38]\tvalidation_0-rmse:0.81507\tvalidation_1-rmse:0.92093\n",
      "[39]\tvalidation_0-rmse:0.81478\tvalidation_1-rmse:0.92065\n",
      "[40]\tvalidation_0-rmse:0.81459\tvalidation_1-rmse:0.92088\n",
      "[41]\tvalidation_0-rmse:0.81421\tvalidation_1-rmse:0.92045\n",
      "[42]\tvalidation_0-rmse:0.81291\tvalidation_1-rmse:0.91888\n",
      "[43]\tvalidation_0-rmse:0.81264\tvalidation_1-rmse:0.91983\n",
      "[44]\tvalidation_0-rmse:0.81231\tvalidation_1-rmse:0.91955\n",
      "[45]\tvalidation_0-rmse:0.81200\tvalidation_1-rmse:0.91934\n",
      "[46]\tvalidation_0-rmse:0.81147\tvalidation_1-rmse:0.91900\n",
      "[47]\tvalidation_0-rmse:0.81113\tvalidation_1-rmse:0.91940\n",
      "[48]\tvalidation_0-rmse:0.81084\tvalidation_1-rmse:0.91988\n"
     ]
    },
    {
     "data": {
      "text/plain": [
       "XGBRegressor(base_score=0.5, booster='gbtree', colsample_bylevel=1,\n",
       "             colsample_bynode=1, colsample_bytree=0.7, enable_categorical=False,\n",
       "             eta=0.3, gamma=0, gpu_id=-1, importance_type=None,\n",
       "             interaction_constraints='', learning_rate=0.300000012,\n",
       "             max_delta_step=0, max_depth=8, min_child_weight=1000, missing=nan,\n",
       "             monotone_constraints='()', n_estimators=500, n_jobs=8,\n",
       "             num_parallel_tree=1, predictor='auto', random_state=0, reg_alpha=0,\n",
       "             reg_lambda=1, scale_pos_weight=1, seed=0, subsample=0.8,\n",
       "             tree_method='approx', validate_parameters=1, verbosity=None)"
      ]
     },
     "execution_count": 15,
     "metadata": {},
     "output_type": "execute_result"
    }
   ],
   "source": [
    "xgb_model = XGBRegressor(max_depth=8, \n",
    "                         n_estimators=500,      # 사용할 트리 갯수\n",
    "                         min_child_weight=1000, # leaf node에 포함되는 최소 관측치의 수, 작을수록 over fitting 가능성(default: 1)\n",
    "                         colsample_bytree=0.7,  # 개별 트리에 사용될 변수 갯수를 지정(default: 1)\n",
    "                         subsample=0.8,         # 개별 트리에 사용되는 임의 표본수(default: 1)\n",
    "                         eta=0.3,               # 학습률(default: 0.3)\n",
    "                         seed=0)\n",
    "\n",
    "xgb_model.fit(X_train, Y_train, \n",
    "              eval_set=[(X_train, Y_train),     # 성능평가 데이터셋 설정\n",
    "                        (X_valid, Y_valid)], \n",
    "              eval_metric=\"rmse\",               # 평가셋에 적용할 성능평가 지표 설정\n",
    "              verbose=True,                     # 평가값 출력\n",
    "              early_stopping_rounds=40)         # 초기중단, 설정값만큼 성능개선이 없으면 중단"
   ]
  },
  {
   "cell_type": "code",
   "execution_count": 18,
   "id": "68eab88e",
   "metadata": {},
   "outputs": [
    {
     "name": "stdout",
     "output_type": "stream",
     "text": [
      "train rmse: 0.8775950060340351\n",
      "valid rmse: 0.9155326\n"
     ]
    }
   ],
   "source": [
    "xgb_train_pred = rf_model.predict(X_train)\n",
    "xgb_val_pred = xgb_model.predict(X_valid)\n",
    "xgb_test_pred = xgb_model.predict(X_test)\n",
    "\n",
    "print('train rmse:', np.sqrt(mean_squared_error(Y_train, xgb_train_pred)))\n",
    "print('valid rmse:', np.sqrt(mean_squared_error(Y_valid, xgb_val_pred)))"
   ]
  },
  {
   "cell_type": "markdown",
   "id": "6a147007",
   "metadata": {},
   "source": [
    "## LightGBM"
   ]
  },
  {
   "cell_type": "code",
   "execution_count": 19,
   "id": "b47c9b94",
   "metadata": {},
   "outputs": [
    {
     "name": "stderr",
     "output_type": "stream",
     "text": [
      "c:\\Users\\nonil\\anaconda3\\envs\\env_37\\lib\\site-packages\\lightgbm\\engine.py:177: UserWarning: Found `num_rounds` in params. Will use it instead of argument\n",
      "  _log_warning(f\"Found `{alias}` in params. Will use it instead of argument\")\n",
      "c:\\Users\\nonil\\anaconda3\\envs\\env_37\\lib\\site-packages\\lightgbm\\basic.py:2068: UserWarning: categorical_feature in Dataset is overridden.\n",
      "New categorical_feature is ['city_name', 'down', 'item_category_id', 'item_id', 'month', 'shop_id']\n",
      "  _log_warning('categorical_feature in Dataset is overridden.\\n'\n",
      "c:\\Users\\nonil\\anaconda3\\envs\\env_37\\lib\\site-packages\\lightgbm\\engine.py:239: UserWarning: 'verbose_eval' argument is deprecated and will be removed in a future release of LightGBM. Pass 'log_evaluation()' callback via 'callbacks' argument instead.\n",
      "  _log_warning(\"'verbose_eval' argument is deprecated and will be removed in a future release of LightGBM. \"\n"
     ]
    },
    {
     "name": "stdout",
     "output_type": "stream",
     "text": [
      "[LightGBM] [Warning] Auto-choosing row-wise multi-threading, the overhead of testing was 0.268364 seconds.\n",
      "You can set `force_row_wise=true` to remove the overhead.\n",
      "And if memory is not enough, you can set `force_col_wise=true`.\n",
      "[LightGBM] [Info] Total Bins 18802\n",
      "[LightGBM] [Info] Number of data points in the train set: 6167532, number of used features: 39\n"
     ]
    },
    {
     "name": "stderr",
     "output_type": "stream",
     "text": [
      "c:\\Users\\nonil\\anaconda3\\envs\\env_37\\lib\\site-packages\\lightgbm\\basic.py:1780: UserWarning: Overriding the parameters from Reference Dataset.\n",
      "  _log_warning('Overriding the parameters from Reference Dataset.')\n",
      "c:\\Users\\nonil\\anaconda3\\envs\\env_37\\lib\\site-packages\\lightgbm\\basic.py:1513: UserWarning: categorical_column in param dict is overridden.\n",
      "  _log_warning(f'{cat_alias} in param dict is overridden.')\n"
     ]
    },
    {
     "name": "stdout",
     "output_type": "stream",
     "text": [
      "[LightGBM] [Info] Start training from score 0.290343\n",
      "Training until validation scores don't improve for 150 rounds\n",
      "[50]\ttraining's rmse: 1.04213\tvalid_1's rmse: 1.04881\n",
      "[100]\ttraining's rmse: 0.932606\tvalid_1's rmse: 0.990615\n",
      "[150]\ttraining's rmse: 0.852186\tvalid_1's rmse: 0.953375\n",
      "[200]\ttraining's rmse: 0.794616\tvalid_1's rmse: 0.929522\n",
      "[250]\ttraining's rmse: 0.749572\tvalid_1's rmse: 0.915405\n",
      "[300]\ttraining's rmse: 0.717064\tvalid_1's rmse: 0.90665\n",
      "[350]\ttraining's rmse: 0.691163\tvalid_1's rmse: 0.902001\n",
      "[400]\ttraining's rmse: 0.670837\tvalid_1's rmse: 0.899522\n",
      "[450]\ttraining's rmse: 0.653643\tvalid_1's rmse: 0.898408\n",
      "[500]\ttraining's rmse: 0.639437\tvalid_1's rmse: 0.898224\n",
      "[550]\ttraining's rmse: 0.627787\tvalid_1's rmse: 0.89836\n",
      "[600]\ttraining's rmse: 0.618099\tvalid_1's rmse: 0.898723\n",
      "Early stopping, best iteration is:\n",
      "[469]\ttraining's rmse: 0.648316\tvalid_1's rmse: 0.89799\n"
     ]
    }
   ],
   "source": [
    "# dataset을 LGBM에 맞게 포맷을 변경해야함.\n",
    "lgb_train = lgb.Dataset(X_train, Y_train)\n",
    "lgb_valid = lgb.Dataset(X_valid, Y_valid)\n",
    "\n",
    "# 파라미터 입력\n",
    "params = {'objective': 'rmse',          # learning task\n",
    "         'metric': 'rmse',\n",
    "         'num_leaves': 1023,            # 모델의 복잡성\n",
    "         'min_data_in_leaf':10,         # 리프노드가 되기위한 최소데이터 수(=DT의 min_samples_leaf)\n",
    "         'feature_fraction':0.7,        # 개별 트리 학습시 선택되는 무작위 feature 수\n",
    "         'learning_rate': 0.005,        # 학습률\n",
    "         'num_rounds': 1000,            # 하나의 트리가 가질 수 있는 최대 leaf 수\n",
    "         'early_stopping_rounds': 150,\n",
    "         'seed': 1}\n",
    "\n",
    "# 카테고리 변수 지정\n",
    "cat_features = ['item_category_id','down','month','item_id','shop_id','city_name']\n",
    " \n",
    "# Train LightGBM model\n",
    "lgb_model = lgb.train(params=params,\n",
    "                      train_set=lgb_train,\n",
    "                      valid_sets=(lgb_train, lgb_valid),\n",
    "                      verbose_eval=50,\n",
    "                      categorical_feature=cat_features)"
   ]
  },
  {
   "cell_type": "code",
   "execution_count": 20,
   "id": "130bf14f",
   "metadata": {},
   "outputs": [
    {
     "name": "stdout",
     "output_type": "stream",
     "text": [
      "train rmse: 0.6483164985195503\n",
      "valid rmse: 0.897989812418362\n"
     ]
    }
   ],
   "source": [
    "lgb_train_pred = lgb_model.predict(X_train)\n",
    "lgb_val_pred = lgb_model.predict(X_valid)\n",
    "lgb_test_pred = lgb_model.predict(X_test)\n",
    "\n",
    "print('train rmse:', np.sqrt(mean_squared_error(Y_train, lgb_train_pred)))\n",
    "print('valid rmse:', np.sqrt(mean_squared_error(Y_valid, lgb_val_pred)))"
   ]
  },
  {
   "cell_type": "markdown",
   "id": "607ae10e",
   "metadata": {},
   "source": [
    "## catboost"
   ]
  },
  {
   "cell_type": "code",
   "execution_count": 53,
   "id": "c21d62a7",
   "metadata": {},
   "outputs": [
    {
     "name": "stdout",
     "output_type": "stream",
     "text": [
      "0:\tlearn: 1.0787975\ttest: 1.0591072\tbest: 1.0591072 (0)\ttotal: 1.18s\tremaining: 19m 37s\n",
      "1:\tlearn: 1.0147324\ttest: 1.0169902\tbest: 1.0169902 (1)\ttotal: 2.41s\tremaining: 20m 3s\n",
      "2:\tlearn: 0.9761586\ttest: 0.9930515\tbest: 0.9930515 (2)\ttotal: 3.46s\tremaining: 19m 9s\n",
      "3:\tlearn: 0.9526034\ttest: 0.9777515\tbest: 0.9777515 (3)\ttotal: 4.47s\tremaining: 18m 34s\n",
      "4:\tlearn: 0.9385173\ttest: 0.9703851\tbest: 0.9703851 (4)\ttotal: 5.66s\tremaining: 18m 46s\n",
      "5:\tlearn: 0.9299324\ttest: 0.9668338\tbest: 0.9668338 (5)\ttotal: 6.83s\tremaining: 18m 50s\n",
      "6:\tlearn: 0.9225348\ttest: 0.9629146\tbest: 0.9629146 (6)\ttotal: 7.9s\tremaining: 18m 40s\n",
      "7:\tlearn: 0.9174095\ttest: 0.9604599\tbest: 0.9604599 (7)\ttotal: 9.01s\tremaining: 18m 37s\n",
      "8:\tlearn: 0.9140208\ttest: 0.9591533\tbest: 0.9591533 (8)\ttotal: 10.1s\tremaining: 18m 29s\n",
      "9:\tlearn: 0.9108935\ttest: 0.9576125\tbest: 0.9576125 (9)\ttotal: 11.3s\tremaining: 18m 36s\n",
      "10:\tlearn: 0.9083540\ttest: 0.9558206\tbest: 0.9558206 (10)\ttotal: 12.3s\tremaining: 18m 29s\n",
      "11:\tlearn: 0.9061059\ttest: 0.9560239\tbest: 0.9558206 (10)\ttotal: 13.5s\tremaining: 18m 34s\n",
      "12:\tlearn: 0.9031843\ttest: 0.9557479\tbest: 0.9557479 (12)\ttotal: 14.8s\tremaining: 18m 44s\n",
      "13:\tlearn: 0.9015640\ttest: 0.9553050\tbest: 0.9553050 (13)\ttotal: 15.9s\tremaining: 18m 43s\n",
      "14:\tlearn: 0.8993667\ttest: 0.9538780\tbest: 0.9538780 (14)\ttotal: 17.3s\tremaining: 18m 56s\n",
      "15:\tlearn: 0.8980277\ttest: 0.9536453\tbest: 0.9536453 (15)\ttotal: 18.5s\tremaining: 18m 56s\n",
      "16:\tlearn: 0.8966090\ttest: 0.9532466\tbest: 0.9532466 (16)\ttotal: 19.6s\tremaining: 18m 56s\n",
      "17:\tlearn: 0.8954630\ttest: 0.9527931\tbest: 0.9527931 (17)\ttotal: 20.8s\tremaining: 18m 53s\n",
      "18:\tlearn: 0.8943139\ttest: 0.9524009\tbest: 0.9524009 (18)\ttotal: 22s\tremaining: 18m 56s\n",
      "19:\tlearn: 0.8934961\ttest: 0.9528217\tbest: 0.9524009 (18)\ttotal: 23.2s\tremaining: 18m 54s\n",
      "20:\tlearn: 0.8922414\ttest: 0.9526630\tbest: 0.9524009 (18)\ttotal: 24.3s\tremaining: 18m 53s\n",
      "21:\tlearn: 0.8911457\ttest: 0.9524421\tbest: 0.9524009 (18)\ttotal: 25.4s\tremaining: 18m 49s\n",
      "22:\tlearn: 0.8906105\ttest: 0.9522324\tbest: 0.9522324 (22)\ttotal: 26.5s\tremaining: 18m 46s\n",
      "23:\tlearn: 0.8894306\ttest: 0.9559263\tbest: 0.9522324 (22)\ttotal: 27.7s\tremaining: 18m 45s\n",
      "24:\tlearn: 0.8881350\ttest: 0.9557208\tbest: 0.9522324 (22)\ttotal: 28.8s\tremaining: 18m 41s\n",
      "25:\tlearn: 0.8875843\ttest: 0.9556828\tbest: 0.9522324 (22)\ttotal: 29.9s\tremaining: 18m 39s\n",
      "26:\tlearn: 0.8866344\ttest: 0.9552166\tbest: 0.9522324 (22)\ttotal: 30.9s\tremaining: 18m 34s\n",
      "27:\tlearn: 0.8852699\ttest: 0.9554322\tbest: 0.9522324 (22)\ttotal: 32s\tremaining: 18m 32s\n",
      "28:\tlearn: 0.8842883\ttest: 0.9554652\tbest: 0.9522324 (22)\ttotal: 33.2s\tremaining: 18m 30s\n",
      "29:\tlearn: 0.8837479\ttest: 0.9553741\tbest: 0.9522324 (22)\ttotal: 34.4s\tremaining: 18m 32s\n",
      "30:\tlearn: 0.8831121\ttest: 0.9553387\tbest: 0.9522324 (22)\ttotal: 35.5s\tremaining: 18m 29s\n",
      "31:\tlearn: 0.8823789\ttest: 0.9550016\tbest: 0.9522324 (22)\ttotal: 36.6s\tremaining: 18m 27s\n",
      "32:\tlearn: 0.8814792\ttest: 0.9543078\tbest: 0.9522324 (22)\ttotal: 37.6s\tremaining: 18m 22s\n",
      "33:\tlearn: 0.8809537\ttest: 0.9543297\tbest: 0.9522324 (22)\ttotal: 38.6s\tremaining: 18m 17s\n",
      "34:\tlearn: 0.8805936\ttest: 0.9541906\tbest: 0.9522324 (22)\ttotal: 39.7s\tremaining: 18m 13s\n",
      "35:\tlearn: 0.8792833\ttest: 0.9536601\tbest: 0.9522324 (22)\ttotal: 40.8s\tremaining: 18m 12s\n",
      "36:\tlearn: 0.8783775\ttest: 0.9536025\tbest: 0.9522324 (22)\ttotal: 41.9s\tremaining: 18m 9s\n",
      "37:\tlearn: 0.8771078\ttest: 0.9556007\tbest: 0.9522324 (22)\ttotal: 43s\tremaining: 18m 8s\n",
      "38:\tlearn: 0.8766504\ttest: 0.9555787\tbest: 0.9522324 (22)\ttotal: 44s\tremaining: 18m 4s\n",
      "39:\tlearn: 0.8758896\ttest: 0.9555163\tbest: 0.9522324 (22)\ttotal: 45.1s\tremaining: 18m 2s\n",
      "40:\tlearn: 0.8750736\ttest: 0.9560848\tbest: 0.9522324 (22)\ttotal: 46.2s\tremaining: 18m\n",
      "41:\tlearn: 0.8746150\ttest: 0.9559945\tbest: 0.9522324 (22)\ttotal: 47.2s\tremaining: 17m 56s\n",
      "42:\tlearn: 0.8740371\ttest: 0.9557522\tbest: 0.9522324 (22)\ttotal: 48.3s\tremaining: 17m 55s\n",
      "43:\tlearn: 0.8733097\ttest: 0.9568537\tbest: 0.9522324 (22)\ttotal: 49.4s\tremaining: 17m 54s\n",
      "44:\tlearn: 0.8731426\ttest: 0.9568336\tbest: 0.9522324 (22)\ttotal: 50.5s\tremaining: 17m 50s\n",
      "45:\tlearn: 0.8723535\ttest: 0.9566780\tbest: 0.9522324 (22)\ttotal: 51.5s\tremaining: 17m 48s\n",
      "46:\tlearn: 0.8703328\ttest: 0.9569658\tbest: 0.9522324 (22)\ttotal: 52.6s\tremaining: 17m 47s\n",
      "47:\tlearn: 0.8698840\ttest: 0.9571866\tbest: 0.9522324 (22)\ttotal: 53.7s\tremaining: 17m 44s\n",
      "48:\tlearn: 0.8693391\ttest: 0.9573463\tbest: 0.9522324 (22)\ttotal: 54.7s\tremaining: 17m 41s\n",
      "49:\tlearn: 0.8688525\ttest: 0.9581444\tbest: 0.9522324 (22)\ttotal: 55.8s\tremaining: 17m 41s\n",
      "50:\tlearn: 0.8681161\ttest: 0.9581961\tbest: 0.9522324 (22)\ttotal: 56.9s\tremaining: 17m 38s\n",
      "51:\tlearn: 0.8675266\ttest: 0.9581732\tbest: 0.9522324 (22)\ttotal: 58s\tremaining: 17m 36s\n",
      "52:\tlearn: 0.8671752\ttest: 0.9583228\tbest: 0.9522324 (22)\ttotal: 59.1s\tremaining: 17m 35s\n",
      "53:\tlearn: 0.8666664\ttest: 0.9583268\tbest: 0.9522324 (22)\ttotal: 1m\tremaining: 17m 33s\n",
      "54:\tlearn: 0.8661778\ttest: 0.9585496\tbest: 0.9522324 (22)\ttotal: 1m 1s\tremaining: 17m 31s\n",
      "55:\tlearn: 0.8654642\ttest: 0.9582249\tbest: 0.9522324 (22)\ttotal: 1m 2s\tremaining: 17m 30s\n",
      "56:\tlearn: 0.8649387\ttest: 0.9582837\tbest: 0.9522324 (22)\ttotal: 1m 3s\tremaining: 17m 28s\n",
      "57:\tlearn: 0.8646086\ttest: 0.9582698\tbest: 0.9522324 (22)\ttotal: 1m 4s\tremaining: 17m 26s\n",
      "58:\tlearn: 0.8640929\ttest: 0.9582043\tbest: 0.9522324 (22)\ttotal: 1m 5s\tremaining: 17m 24s\n",
      "59:\tlearn: 0.8634245\ttest: 0.9580477\tbest: 0.9522324 (22)\ttotal: 1m 6s\tremaining: 17m 23s\n",
      "60:\tlearn: 0.8628531\ttest: 0.9576310\tbest: 0.9522324 (22)\ttotal: 1m 7s\tremaining: 17m 22s\n",
      "61:\tlearn: 0.8625498\ttest: 0.9575714\tbest: 0.9522324 (22)\ttotal: 1m 8s\tremaining: 17m 20s\n",
      "62:\tlearn: 0.8621796\ttest: 0.9578974\tbest: 0.9522324 (22)\ttotal: 1m 9s\tremaining: 17m 18s\n",
      "63:\tlearn: 0.8618759\ttest: 0.9581927\tbest: 0.9522324 (22)\ttotal: 1m 10s\tremaining: 17m 18s\n",
      "64:\tlearn: 0.8615649\ttest: 0.9584150\tbest: 0.9522324 (22)\ttotal: 1m 12s\tremaining: 17m 17s\n",
      "65:\tlearn: 0.8600775\ttest: 0.9580992\tbest: 0.9522324 (22)\ttotal: 1m 13s\tremaining: 17m 16s\n",
      "66:\tlearn: 0.8591951\ttest: 0.9579008\tbest: 0.9522324 (22)\ttotal: 1m 14s\tremaining: 17m 15s\n",
      "67:\tlearn: 0.8588739\ttest: 0.9590152\tbest: 0.9522324 (22)\ttotal: 1m 15s\tremaining: 17m 13s\n",
      "68:\tlearn: 0.8583991\ttest: 0.9590830\tbest: 0.9522324 (22)\ttotal: 1m 16s\tremaining: 17m 11s\n",
      "69:\tlearn: 0.8580296\ttest: 0.9592932\tbest: 0.9522324 (22)\ttotal: 1m 17s\tremaining: 17m 9s\n",
      "70:\tlearn: 0.8578356\ttest: 0.9593151\tbest: 0.9522324 (22)\ttotal: 1m 18s\tremaining: 17m 7s\n",
      "71:\tlearn: 0.8575204\ttest: 0.9593660\tbest: 0.9522324 (22)\ttotal: 1m 19s\tremaining: 17m 5s\n",
      "72:\tlearn: 0.8563539\ttest: 0.9600435\tbest: 0.9522324 (22)\ttotal: 1m 20s\tremaining: 17m 3s\n",
      "Stopped by overfitting detector  (50 iterations wait)\n",
      "\n",
      "bestTest = 0.9522323799\n",
      "bestIteration = 22\n",
      "\n",
      "Shrink model to first 23 iterations.\n"
     ]
    },
    {
     "data": {
      "text/plain": [
       "<catboost.core.CatBoostRegressor at 0x2ad15e47488>"
      ]
     },
     "execution_count": 53,
     "metadata": {},
     "output_type": "execute_result"
    }
   ],
   "source": [
    "cat_model = CatBoostRegressor(max_depth=10,\n",
    "                              loss_function='RMSE',\n",
    "                              n_estimators=1000,\n",
    "                              eta=0.3,\n",
    "                              random_seed=123)\n",
    "\n",
    "# cat_model = CatBoostRegressor()\n",
    "cat_model.fit(X_train_pca, Y_train,\n",
    "              eval_set=(X_valid_pca, Y_valid),\n",
    "              verbose=True,\n",
    "              early_stopping_rounds=50)"
   ]
  },
  {
   "cell_type": "code",
   "execution_count": 54,
   "id": "faa45cbc",
   "metadata": {},
   "outputs": [
    {
     "name": "stdout",
     "output_type": "stream",
     "text": [
      "train rmse: 0.8906104516942562\n",
      "valid rmse: 0.9522323798965965\n"
     ]
    }
   ],
   "source": [
    "cat_train_pred = cat_model.predict(X_train_pca)\n",
    "cat_val_pred = cat_model.predict(X_valid_pca)\n",
    "cat_test_pred = cat_model.predict(X_test)\n",
    "\n",
    "print('train rmse:', np.sqrt(mean_squared_error(Y_train, cat_train_pred)))\n",
    "print('valid rmse:', np.sqrt(mean_squared_error(Y_valid, cat_val_pred)))"
   ]
  },
  {
   "cell_type": "code",
   "execution_count": 109,
   "id": "42768990",
   "metadata": {},
   "outputs": [
    {
     "data": {
      "text/html": [
       "<div>\n",
       "<style scoped>\n",
       "    .dataframe tbody tr th:only-of-type {\n",
       "        vertical-align: middle;\n",
       "    }\n",
       "\n",
       "    .dataframe tbody tr th {\n",
       "        vertical-align: top;\n",
       "    }\n",
       "\n",
       "    .dataframe thead th {\n",
       "        text-align: right;\n",
       "    }\n",
       "</style>\n",
       "<table border=\"1\" class=\"dataframe\">\n",
       "  <thead>\n",
       "    <tr style=\"text-align: right;\">\n",
       "      <th></th>\n",
       "      <th>train</th>\n",
       "      <th>valid</th>\n",
       "    </tr>\n",
       "  </thead>\n",
       "  <tbody>\n",
       "    <tr>\n",
       "      <th>lr</th>\n",
       "      <td>0.918</td>\n",
       "      <td>0.965</td>\n",
       "    </tr>\n",
       "    <tr>\n",
       "      <th>lr_scale</th>\n",
       "      <td>1.106</td>\n",
       "      <td>1.210</td>\n",
       "    </tr>\n",
       "    <tr>\n",
       "      <th>lr_pca</th>\n",
       "      <td>0.942</td>\n",
       "      <td>0.973</td>\n",
       "    </tr>\n",
       "    <tr>\n",
       "      <th>knn</th>\n",
       "      <td>0.000</td>\n",
       "      <td>0.967</td>\n",
       "    </tr>\n",
       "    <tr>\n",
       "      <th>randomforest</th>\n",
       "      <td>0.878</td>\n",
       "      <td>0.942</td>\n",
       "    </tr>\n",
       "    <tr>\n",
       "      <th>xgb</th>\n",
       "      <td>0.878</td>\n",
       "      <td>0.916</td>\n",
       "    </tr>\n",
       "    <tr>\n",
       "      <th>lightGBM</th>\n",
       "      <td>0.648</td>\n",
       "      <td>0.898</td>\n",
       "    </tr>\n",
       "    <tr>\n",
       "      <th>catboost</th>\n",
       "      <td>0.891</td>\n",
       "      <td>0.952</td>\n",
       "    </tr>\n",
       "  </tbody>\n",
       "</table>\n",
       "</div>"
      ],
      "text/plain": [
       "              train  valid\n",
       "lr            0.918  0.965\n",
       "lr_scale      1.106  1.210\n",
       "lr_pca        0.942  0.973\n",
       "knn           0.000  0.967\n",
       "randomforest  0.878  0.942\n",
       "xgb           0.878  0.916\n",
       "lightGBM      0.648  0.898\n",
       "catboost      0.891  0.952"
      ]
     },
     "execution_count": 109,
     "metadata": {},
     "output_type": "execute_result"
    }
   ],
   "source": [
    "## 모델별 점수(RMSE)\n",
    "train_score = [lr_train_pred, lr_train_pred_scaled, lr_train_pred_pca, knn_train_pred, rf_train_pred, xgb_train_pred, lgb_train_pred, cat_train_pred]\n",
    "valid_score = [lr_val_pred, lr_val_pred_scaled, lr_val_pred_pca, knn_val_pred, rf_val_pred, xgb_val_pred, lgb_val_pred, cat_val_pred]\n",
    "name = [\"lr\", \"lr_scale\", \"lr_pca\", \"knn\", \"randomforest\", \"xgb\", \"lightGBM\", \"catboost\"]\n",
    "\n",
    "pd.DataFrame({\"train\": [round(np.sqrt(mean_squared_error(Y_train, i)), 3) for i in train_score],\n",
    "             \"valid\": [round(np.sqrt(mean_squared_error(Y_valid, i)), 3) for i in valid_score]},\n",
    "             index = pd.Index(name))\n"
   ]
  },
  {
   "cell_type": "markdown",
   "id": "81337934",
   "metadata": {},
   "source": [
    "## stacking"
   ]
  },
  {
   "cell_type": "code",
   "execution_count": 55,
   "id": "e5efd6b1",
   "metadata": {},
   "outputs": [],
   "source": [
    "# 모델별 예측값들 데이터프레임으로 변환\n",
    "first_level = pd.DataFrame(cat_val_pred, columns=['catboost'])\n",
    "first_level['linear_regression'] = lr_val_pred\n",
    "first_level['random_forest'] = rf_val_pred\n",
    "first_level['knn'] = knn_val_pred\n",
    "first_level['xgbm'] = xgb_val_pred\n",
    "first_level['lgb']=lgb_val_pred\n",
    "\n",
    "first_level['label'] = Y_valid.values"
   ]
  },
  {
   "cell_type": "code",
   "execution_count": 56,
   "id": "2ea74fbe",
   "metadata": {},
   "outputs": [
    {
     "data": {
      "text/html": [
       "<div>\n",
       "<style scoped>\n",
       "    .dataframe tbody tr th:only-of-type {\n",
       "        vertical-align: middle;\n",
       "    }\n",
       "\n",
       "    .dataframe tbody tr th {\n",
       "        vertical-align: top;\n",
       "    }\n",
       "\n",
       "    .dataframe thead th {\n",
       "        text-align: right;\n",
       "    }\n",
       "</style>\n",
       "<table border=\"1\" class=\"dataframe\">\n",
       "  <thead>\n",
       "    <tr style=\"text-align: right;\">\n",
       "      <th></th>\n",
       "      <th>catboost</th>\n",
       "      <th>linear_regression</th>\n",
       "      <th>random_forest</th>\n",
       "      <th>knn</th>\n",
       "      <th>xgbm</th>\n",
       "      <th>lgb</th>\n",
       "      <th>label</th>\n",
       "    </tr>\n",
       "  </thead>\n",
       "  <tbody>\n",
       "    <tr>\n",
       "      <th>0</th>\n",
       "      <td>0.077740</td>\n",
       "      <td>-0.141650</td>\n",
       "      <td>0.074616</td>\n",
       "      <td>0.000000</td>\n",
       "      <td>0.047015</td>\n",
       "      <td>0.050777</td>\n",
       "      <td>0.0</td>\n",
       "    </tr>\n",
       "    <tr>\n",
       "      <th>1</th>\n",
       "      <td>0.120352</td>\n",
       "      <td>-0.203437</td>\n",
       "      <td>0.214632</td>\n",
       "      <td>0.113208</td>\n",
       "      <td>0.110096</td>\n",
       "      <td>0.146880</td>\n",
       "      <td>1.0</td>\n",
       "    </tr>\n",
       "    <tr>\n",
       "      <th>2</th>\n",
       "      <td>0.168543</td>\n",
       "      <td>0.088141</td>\n",
       "      <td>0.067675</td>\n",
       "      <td>0.333491</td>\n",
       "      <td>0.220894</td>\n",
       "      <td>0.180753</td>\n",
       "      <td>0.0</td>\n",
       "    </tr>\n",
       "    <tr>\n",
       "      <th>3</th>\n",
       "      <td>0.191563</td>\n",
       "      <td>0.392357</td>\n",
       "      <td>0.214632</td>\n",
       "      <td>0.311603</td>\n",
       "      <td>0.263586</td>\n",
       "      <td>0.264632</td>\n",
       "      <td>0.0</td>\n",
       "    </tr>\n",
       "    <tr>\n",
       "      <th>4</th>\n",
       "      <td>0.024362</td>\n",
       "      <td>0.041957</td>\n",
       "      <td>0.022556</td>\n",
       "      <td>0.000000</td>\n",
       "      <td>0.025997</td>\n",
       "      <td>0.033624</td>\n",
       "      <td>0.0</td>\n",
       "    </tr>\n",
       "    <tr>\n",
       "      <th>...</th>\n",
       "      <td>...</td>\n",
       "      <td>...</td>\n",
       "      <td>...</td>\n",
       "      <td>...</td>\n",
       "      <td>...</td>\n",
       "      <td>...</td>\n",
       "      <td>...</td>\n",
       "    </tr>\n",
       "    <tr>\n",
       "      <th>238079</th>\n",
       "      <td>0.165535</td>\n",
       "      <td>0.206447</td>\n",
       "      <td>0.074616</td>\n",
       "      <td>0.666871</td>\n",
       "      <td>0.157732</td>\n",
       "      <td>0.394448</td>\n",
       "      <td>0.0</td>\n",
       "    </tr>\n",
       "    <tr>\n",
       "      <th>238080</th>\n",
       "      <td>0.091780</td>\n",
       "      <td>0.228305</td>\n",
       "      <td>0.208801</td>\n",
       "      <td>0.110341</td>\n",
       "      <td>0.216253</td>\n",
       "      <td>0.143976</td>\n",
       "      <td>0.0</td>\n",
       "    </tr>\n",
       "    <tr>\n",
       "      <th>238081</th>\n",
       "      <td>0.127017</td>\n",
       "      <td>0.263972</td>\n",
       "      <td>0.214632</td>\n",
       "      <td>0.105029</td>\n",
       "      <td>0.185428</td>\n",
       "      <td>0.235610</td>\n",
       "      <td>0.0</td>\n",
       "    </tr>\n",
       "    <tr>\n",
       "      <th>238082</th>\n",
       "      <td>0.080527</td>\n",
       "      <td>-0.046510</td>\n",
       "      <td>0.022556</td>\n",
       "      <td>0.000000</td>\n",
       "      <td>0.027529</td>\n",
       "      <td>0.033641</td>\n",
       "      <td>0.0</td>\n",
       "    </tr>\n",
       "    <tr>\n",
       "      <th>238083</th>\n",
       "      <td>0.118524</td>\n",
       "      <td>-0.017180</td>\n",
       "      <td>0.067675</td>\n",
       "      <td>0.000000</td>\n",
       "      <td>0.128702</td>\n",
       "      <td>0.114796</td>\n",
       "      <td>0.0</td>\n",
       "    </tr>\n",
       "  </tbody>\n",
       "</table>\n",
       "<p>238084 rows × 7 columns</p>\n",
       "</div>"
      ],
      "text/plain": [
       "        catboost  linear_regression  random_forest       knn      xgbm  \\\n",
       "0       0.077740          -0.141650       0.074616  0.000000  0.047015   \n",
       "1       0.120352          -0.203437       0.214632  0.113208  0.110096   \n",
       "2       0.168543           0.088141       0.067675  0.333491  0.220894   \n",
       "3       0.191563           0.392357       0.214632  0.311603  0.263586   \n",
       "4       0.024362           0.041957       0.022556  0.000000  0.025997   \n",
       "...          ...                ...            ...       ...       ...   \n",
       "238079  0.165535           0.206447       0.074616  0.666871  0.157732   \n",
       "238080  0.091780           0.228305       0.208801  0.110341  0.216253   \n",
       "238081  0.127017           0.263972       0.214632  0.105029  0.185428   \n",
       "238082  0.080527          -0.046510       0.022556  0.000000  0.027529   \n",
       "238083  0.118524          -0.017180       0.067675  0.000000  0.128702   \n",
       "\n",
       "             lgb  label  \n",
       "0       0.050777    0.0  \n",
       "1       0.146880    1.0  \n",
       "2       0.180753    0.0  \n",
       "3       0.264632    0.0  \n",
       "4       0.033624    0.0  \n",
       "...          ...    ...  \n",
       "238079  0.394448    0.0  \n",
       "238080  0.143976    0.0  \n",
       "238081  0.235610    0.0  \n",
       "238082  0.033641    0.0  \n",
       "238083  0.114796    0.0  \n",
       "\n",
       "[238084 rows x 7 columns]"
      ]
     },
     "execution_count": 56,
     "metadata": {},
     "output_type": "execute_result"
    }
   ],
   "source": [
    "first_level"
   ]
  },
  {
   "cell_type": "code",
   "execution_count": 57,
   "id": "3b3f8895",
   "metadata": {},
   "outputs": [],
   "source": [
    "first_level_test = pd.DataFrame(cat_test_pred, columns=['catboost'])\n",
    "first_level_test['linear_regression'] = lr_test_pred\n",
    "first_level_test['random_forest'] = rf_test_pred\n",
    "first_level_test['knn'] = knn_test_pred\n",
    "first_level_test['xgbm'] = xgb_test_pred\n",
    "first_level_test['lgb']=lgb_test_pred"
   ]
  },
  {
   "cell_type": "code",
   "execution_count": 58,
   "id": "57427de6",
   "metadata": {},
   "outputs": [
    {
     "data": {
      "text/html": [
       "<div>\n",
       "<style scoped>\n",
       "    .dataframe tbody tr th:only-of-type {\n",
       "        vertical-align: middle;\n",
       "    }\n",
       "\n",
       "    .dataframe tbody tr th {\n",
       "        vertical-align: top;\n",
       "    }\n",
       "\n",
       "    .dataframe thead th {\n",
       "        text-align: right;\n",
       "    }\n",
       "</style>\n",
       "<table border=\"1\" class=\"dataframe\">\n",
       "  <thead>\n",
       "    <tr style=\"text-align: right;\">\n",
       "      <th></th>\n",
       "      <th>catboost</th>\n",
       "      <th>linear_regression</th>\n",
       "      <th>random_forest</th>\n",
       "      <th>knn</th>\n",
       "      <th>xgbm</th>\n",
       "      <th>lgb</th>\n",
       "    </tr>\n",
       "  </thead>\n",
       "  <tbody>\n",
       "    <tr>\n",
       "      <th>0</th>\n",
       "      <td>4.891077</td>\n",
       "      <td>0.465253</td>\n",
       "      <td>0.554654</td>\n",
       "      <td>0.553201</td>\n",
       "      <td>0.466805</td>\n",
       "      <td>0.828617</td>\n",
       "    </tr>\n",
       "    <tr>\n",
       "      <th>1</th>\n",
       "      <td>3.514991</td>\n",
       "      <td>0.385361</td>\n",
       "      <td>0.603310</td>\n",
       "      <td>0.224239</td>\n",
       "      <td>0.282341</td>\n",
       "      <td>0.226227</td>\n",
       "    </tr>\n",
       "    <tr>\n",
       "      <th>2</th>\n",
       "      <td>5.309790</td>\n",
       "      <td>1.138537</td>\n",
       "      <td>0.697939</td>\n",
       "      <td>0.899092</td>\n",
       "      <td>1.057199</td>\n",
       "      <td>1.529130</td>\n",
       "    </tr>\n",
       "    <tr>\n",
       "      <th>3</th>\n",
       "      <td>3.558266</td>\n",
       "      <td>0.302390</td>\n",
       "      <td>0.455533</td>\n",
       "      <td>0.545650</td>\n",
       "      <td>0.435139</td>\n",
       "      <td>0.418108</td>\n",
       "    </tr>\n",
       "    <tr>\n",
       "      <th>4</th>\n",
       "      <td>3.558266</td>\n",
       "      <td>0.404691</td>\n",
       "      <td>2.928848</td>\n",
       "      <td>2.894070</td>\n",
       "      <td>4.372751</td>\n",
       "      <td>2.451449</td>\n",
       "    </tr>\n",
       "    <tr>\n",
       "      <th>...</th>\n",
       "      <td>...</td>\n",
       "      <td>...</td>\n",
       "      <td>...</td>\n",
       "      <td>...</td>\n",
       "      <td>...</td>\n",
       "      <td>...</td>\n",
       "    </tr>\n",
       "    <tr>\n",
       "      <th>214195</th>\n",
       "      <td>5.051053</td>\n",
       "      <td>0.377903</td>\n",
       "      <td>0.074616</td>\n",
       "      <td>0.000000</td>\n",
       "      <td>0.102446</td>\n",
       "      <td>0.122274</td>\n",
       "    </tr>\n",
       "    <tr>\n",
       "      <th>214196</th>\n",
       "      <td>4.071477</td>\n",
       "      <td>0.177302</td>\n",
       "      <td>0.022556</td>\n",
       "      <td>0.110687</td>\n",
       "      <td>0.044987</td>\n",
       "      <td>0.047131</td>\n",
       "    </tr>\n",
       "    <tr>\n",
       "      <th>214197</th>\n",
       "      <td>3.765150</td>\n",
       "      <td>-0.015998</td>\n",
       "      <td>0.074616</td>\n",
       "      <td>0.114798</td>\n",
       "      <td>0.058514</td>\n",
       "      <td>0.071768</td>\n",
       "    </tr>\n",
       "    <tr>\n",
       "      <th>214198</th>\n",
       "      <td>4.071477</td>\n",
       "      <td>0.111340</td>\n",
       "      <td>0.022556</td>\n",
       "      <td>0.000000</td>\n",
       "      <td>0.033815</td>\n",
       "      <td>0.038715</td>\n",
       "    </tr>\n",
       "    <tr>\n",
       "      <th>214199</th>\n",
       "      <td>3.320155</td>\n",
       "      <td>0.063090</td>\n",
       "      <td>0.074616</td>\n",
       "      <td>0.000000</td>\n",
       "      <td>0.054238</td>\n",
       "      <td>0.079713</td>\n",
       "    </tr>\n",
       "  </tbody>\n",
       "</table>\n",
       "<p>214200 rows × 6 columns</p>\n",
       "</div>"
      ],
      "text/plain": [
       "        catboost  linear_regression  random_forest       knn      xgbm  \\\n",
       "0       4.891077           0.465253       0.554654  0.553201  0.466805   \n",
       "1       3.514991           0.385361       0.603310  0.224239  0.282341   \n",
       "2       5.309790           1.138537       0.697939  0.899092  1.057199   \n",
       "3       3.558266           0.302390       0.455533  0.545650  0.435139   \n",
       "4       3.558266           0.404691       2.928848  2.894070  4.372751   \n",
       "...          ...                ...            ...       ...       ...   \n",
       "214195  5.051053           0.377903       0.074616  0.000000  0.102446   \n",
       "214196  4.071477           0.177302       0.022556  0.110687  0.044987   \n",
       "214197  3.765150          -0.015998       0.074616  0.114798  0.058514   \n",
       "214198  4.071477           0.111340       0.022556  0.000000  0.033815   \n",
       "214199  3.320155           0.063090       0.074616  0.000000  0.054238   \n",
       "\n",
       "             lgb  \n",
       "0       0.828617  \n",
       "1       0.226227  \n",
       "2       1.529130  \n",
       "3       0.418108  \n",
       "4       2.451449  \n",
       "...          ...  \n",
       "214195  0.122274  \n",
       "214196  0.047131  \n",
       "214197  0.071768  \n",
       "214198  0.038715  \n",
       "214199  0.079713  \n",
       "\n",
       "[214200 rows x 6 columns]"
      ]
     },
     "execution_count": 58,
     "metadata": {},
     "output_type": "execute_result"
    }
   ],
   "source": [
    "first_level_test"
   ]
  },
  {
   "cell_type": "code",
   "execution_count": 59,
   "id": "8caede99",
   "metadata": {},
   "outputs": [
    {
     "name": "stdout",
     "output_type": "stream",
     "text": [
      "Train rmse: 0.8904401444637822\n"
     ]
    }
   ],
   "source": [
    "meta_model = LinearRegression(n_jobs=-1)\n",
    "\n",
    "first_level.drop('label', axis=1, inplace=True) # 검증데이터 컬럼제외\n",
    "meta_model.fit(first_level, Y_valid)\n",
    "\n",
    "ensemble_pred = meta_model.predict(first_level)\n",
    "final_predictions = meta_model.predict(first_level_test)\n",
    "\n",
    "stacking_score = np.sqrt(mean_squared_error(ensemble_pred, Y_valid))\n",
    "print('Train rmse:', np.sqrt(mean_squared_error(ensemble_pred, Y_valid)))"
   ]
  },
  {
   "cell_type": "code",
   "execution_count": 60,
   "id": "68e6aee4",
   "metadata": {},
   "outputs": [],
   "source": [
    "time = datetime.datetime.now().strftime(\"%m_%d_%H%M\")\n",
    "\n",
    "sub = pd.read_csv(\"c:/users/nonil/new/projects/kaggle/Predict_Future_Sales/data/sample_submission.csv\")\n",
    "sub_stacking = sub.copy()\n",
    "sub_stacking[\"item_cnt_month\"] = final_predictions\n",
    "sub_stacking.to_csv(f\"c:/Users/nonil/new/projects/kaggle/Predict_Future_Sales/sub_stacking_{time}_{stacking_score:.4f}.csv\", index=False)"
   ]
  },
  {
   "cell_type": "code",
   "execution_count": 66,
   "id": "6f4aabc8",
   "metadata": {},
   "outputs": [
    {
     "data": {
      "text/plain": [
       "Text(0.5, 1.0, 'LightGBM')"
      ]
     },
     "execution_count": 66,
     "metadata": {},
     "output_type": "execute_result"
    },
    {
     "data": {
      "image/png": "[encoded data removed]",
      "text/plain": [
       "<Figure size 2304x1440 with 2 Axes>"
      ]
     },
     "metadata": {
      "needs_background": "light"
     },
     "output_type": "display_data"
    }
   ],
   "source": [
    "fig, axes = plt.subplots(nrows = 1, ncols = 2, figsize=(32, 20))\n",
    "plot_importance(xgb_model, ax=axes[0])\n",
    "axes[0].set_title(\"XGBoost\")\n",
    "lgb.plot_importance(lgb_model, ax=axes[1])\n",
    "axes[1].set_title(\"LightGBM\")"
   ]
  }
 ],
 "metadata": {
  "kernelspec": {
   "display_name": "Python 3 (ipykernel)",
   "language": "python",
   "name": "python3"
  },
  "language_info": {
   "codemirror_mode": {
    "name": "ipython",
    "version": 3
   },
   "file_extension": ".py",
   "mimetype": "text/x-python",
   "name": "python",
   "nbconvert_exporter": "python",
   "pygments_lexer": "ipython3",
   "version": "3.9.12"
  },
  "vscode": {
   "interpreter": {
    "hash": "d4249056238a09a07eef7845d4ab5207636bc4a22f1d22edd87965fef8a4787b"
   }
  }
 },
 "nbformat": 4,
 "nbformat_minor": 5
}
